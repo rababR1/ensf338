{
 "cells": [
  {
   "cell_type": "markdown",
   "metadata": {},
   "source": [
    "### Let's look at JSON data\n",
    "\n",
    "The file `data.json` in this folder has the following content\n",
    "\n",
    "```\n",
    "{\n",
    "    \"name\" : \"Lorenzo\",\n",
    "    \"location\" : \"Calgary\",\n",
    "    \"numbers\" : [1,2,3,42]\n",
    "}\n",
    "```\n",
    "\n",
    "Let's try to read it!"
   ]
  },
  {
   "cell_type": "code",
   "execution_count": 1,
   "metadata": {},
   "outputs": [],
   "source": [
    "# First things first - import the json module\n",
    "import json"
   ]
  },
  {
   "cell_type": "code",
   "execution_count": 2,
   "metadata": {},
   "outputs": [],
   "source": [
    "# Load the file\n",
    "with open(\"data.json\", \"r\") as inF:\n",
    "    content = json.load(inF)"
   ]
  },
  {
   "cell_type": "code",
   "execution_count": 3,
   "metadata": {},
   "outputs": [
    {
     "name": "stdout",
     "output_type": "stream",
     "text": [
      "Lorenzo\n",
      "42\n"
     ]
    }
   ],
   "source": [
    "# Print the content\n",
    "print(content[\"name\"])\n",
    "nums = content[\"numbers\"]\n",
    "print(nums[3])"
   ]
  },
  {
   "cell_type": "code",
   "execution_count": 5,
   "metadata": {},
   "outputs": [],
   "source": [
    "## Now let's try to create JSON data\n",
    "\n",
    "mydict = {\n",
    "    \"Temperature\" : -36,\n",
    "    \"Location\" : \"Calgary\",\n",
    "    \"Feeling\" : \"miserable\",\n",
    "    \"numbers\" : [0, 1, 1, 2, 3, 5, 8, 13]\n",
    "}\n",
    "\n",
    "with open(\"output.json\", \"w\") as fifi:\n",
    "    json.dump(mydict, fifi)"
   ]
  }
 ],
 "metadata": {
  "kernelspec": {
   "display_name": "Python 3",
   "language": "python",
   "name": "python3"
  },
  "language_info": {
   "codemirror_mode": {
    "name": "ipython",
    "version": 3
   },
   "file_extension": ".py",
   "mimetype": "text/x-python",
   "name": "python",
   "nbconvert_exporter": "python",
   "pygments_lexer": "ipython3",
   "version": "3.13.1"
  }
 },
 "nbformat": 4,
 "nbformat_minor": 2
}
